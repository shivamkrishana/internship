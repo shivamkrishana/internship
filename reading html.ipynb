{
 "cells": [
  {
   "cell_type": "code",
   "execution_count": 1,
   "id": "6da30a4e",
   "metadata": {},
   "outputs": [],
   "source": [
    "#bonus lec-----> reading data from html files"
   ]
  },
  {
   "cell_type": "code",
   "execution_count": 2,
   "id": "1fbcc52c",
   "metadata": {},
   "outputs": [],
   "source": [
    "#we need to install htmllib5,lxml and beautiful soup4. RUN:"
   ]
  },
  {
   "cell_type": "code",
   "execution_count": null,
   "id": "498594fb",
   "metadata": {},
   "outputs": [
    {
     "name": "stdout",
     "output_type": "stream",
     "text": [
      "Collecting package metadata (current_repodata.json): done\n",
      "Solving environment: \\ \n",
      "The environment is inconsistent, please check the package plan carefully\n",
      "The following packages are causing the inconsistency:\n",
      "\n",
      "  - defaults/osx-64::_anaconda_depends==2022.05=py39_0\n",
      "  - defaults/osx-64::google-cloud-storage==1.43.0=py39hecd8cb5_0\n",
      "  - defaults/osx-64::googleapis-common-protos==1.53.0=py39hecd8cb5_0\n",
      "  - defaults/noarch::google-api-core==2.2.2=pyhd3eb1b0_0\n",
      "  - defaults/noarch::google-cloud-core==2.2.2=pyhd3eb1b0_0\n",
      "  - defaults/osx-64::anaconda==custom=py39_1\n",
      "  - defaults/osx-64::scikit-learn-intelex==2021.5.0=py39hecd8cb5_0\n",
      "done\n",
      "\n",
      "## Package Plan ##\n",
      "\n",
      "  environment location: /Users/shivamkrishana/opt/anaconda3\n",
      "\n",
      "  added / updated specs:\n",
      "    - lxml\n",
      "\n",
      "\n",
      "The following packages will be downloaded:\n",
      "\n",
      "    package                    |            build\n",
      "    ---------------------------|-----------------\n",
      "    ca-certificates-2022.10.11 |       hecd8cb5_0         125 KB\n",
      "    certifi-2022.9.24          |   py39hecd8cb5_0         155 KB\n",
      "    conda-22.11.1              |   py39hecd8cb5_4         941 KB\n",
      "    lxml-4.9.1                 |   py39h65b224f_0         1.2 MB\n",
      "    openssl-1.1.1s             |       hca72f7f_0         2.8 MB\n",
      "    ruamel.yaml-0.17.21        |   py39hca72f7f_0         179 KB\n",
      "    ruamel.yaml.clib-0.2.6     |   py39hca72f7f_1         126 KB\n",
      "    ------------------------------------------------------------\n",
      "                                           Total:         5.5 MB\n",
      "\n",
      "The following NEW packages will be INSTALLED:\n",
      "\n",
      "  protobuf           pkgs/main/osx-64::protobuf-3.20.1-py39he9d5cce_0\n",
      "  ruamel.yaml        pkgs/main/osx-64::ruamel.yaml-0.17.21-py39hca72f7f_0\n",
      "  ruamel.yaml.clib   pkgs/main/osx-64::ruamel.yaml.clib-0.2.6-py39hca72f7f_1\n",
      "  scikit-learn       pkgs/main/osx-64::scikit-learn-1.0.2-py39hae1ba45_1\n",
      "\n",
      "The following packages will be UPDATED:\n",
      "\n",
      "  ca-certificates                     2022.07.19-hecd8cb5_0 --> 2022.10.11-hecd8cb5_0\n",
      "  certifi                          2022.6.15-py39hecd8cb5_0 --> 2022.9.24-py39hecd8cb5_0\n",
      "  conda                               4.14.0-py39hecd8cb5_0 --> 22.11.1-py39hecd8cb5_4\n",
      "  lxml                                 4.8.0-py39h65b224f_0 --> 4.9.1-py39h65b224f_0\n",
      "  openssl                                 1.1.1q-hca72f7f_0 --> 1.1.1s-hca72f7f_0\n",
      "\n",
      "\n",
      "\n",
      "Downloading and Extracting Packages\n",
      "ca-certificates-2022 | 125 KB    | ##################################### | 100% \n",
      "lxml-4.9.1           | 1.2 MB    | ##################################### | 100% \n",
      "conda-22.11.1        | 941 KB    | ##################################### | 100% \n",
      "openssl-1.1.1s       | 2.8 MB    | ##################################### | 100% \n",
      "certifi-2022.9.24    | 155 KB    | ##################################### | 100% \n",
      "ruamel.yaml-0.17.21  | 179 KB    | ##################################### | 100% \n",
      "ruamel.yaml.clib-0.2 | 126 KB    | ##################################### | 100% \n",
      "Preparing transaction: done\n",
      "Verifying transaction: | "
     ]
    }
   ],
   "source": [
    "conda install lxml"
   ]
  },
  {
   "cell_type": "code",
   "execution_count": null,
   "id": "9da4f81a",
   "metadata": {},
   "outputs": [],
   "source": []
  },
  {
   "cell_type": "code",
   "execution_count": 1,
   "id": "a9edfb65",
   "metadata": {},
   "outputs": [],
   "source": [
    "import pandas as pd"
   ]
  },
  {
   "cell_type": "code",
   "execution_count": 3,
   "id": "ad786fe6",
   "metadata": {},
   "outputs": [],
   "source": [
    "#df=pd.read_html(\"http://www.fdic.gov/bank/individual/failed/banklist.html\")"
   ]
  },
  {
   "cell_type": "code",
   "execution_count": 4,
   "id": "070f8eaf",
   "metadata": {},
   "outputs": [],
   "source": [
    "\n",
    "#right now this table has been removed, otherwise u will get a dataframe"
   ]
  },
  {
   "cell_type": "code",
   "execution_count": null,
   "id": "588efd80",
   "metadata": {},
   "outputs": [],
   "source": [
    "#just need to find a html file containing a table first"
   ]
  }
 ],
 "metadata": {
  "kernelspec": {
   "display_name": "Python 3 (ipykernel)",
   "language": "python",
   "name": "python3"
  },
  "language_info": {
   "codemirror_mode": {
    "name": "ipython",
    "version": 3
   },
   "file_extension": ".py",
   "mimetype": "text/x-python",
   "name": "python",
   "nbconvert_exporter": "python",
   "pygments_lexer": "ipython3",
   "version": "3.9.12"
  }
 },
 "nbformat": 4,
 "nbformat_minor": 5
}
