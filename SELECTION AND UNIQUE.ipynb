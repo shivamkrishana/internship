{
 "cells": [
  {
   "cell_type": "code",
   "execution_count": 1,
   "id": "ec4e7c74",
   "metadata": {},
   "outputs": [],
   "source": [
    "#SELECTION AND INFO ON UNIQUE ELEMENTS"
   ]
  },
  {
   "cell_type": "code",
   "execution_count": 2,
   "id": "d532f583",
   "metadata": {},
   "outputs": [],
   "source": [
    "#CREATE A DATAFRAME FIRST"
   ]
  },
  {
   "cell_type": "code",
   "execution_count": 3,
   "id": "82545661",
   "metadata": {},
   "outputs": [],
   "source": [
    "import pandas as pd"
   ]
  },
  {
   "cell_type": "code",
   "execution_count": 10,
   "id": "a7965f33",
   "metadata": {},
   "outputs": [],
   "source": [
    "df=pd.DataFrame({\"col1\":[1,2,3,4],\"col2\":[444,555,666,444],\"col3\":[\"abc\",\"def\",\"ghi\",\"xyz\"]})"
   ]
  },
  {
   "cell_type": "code",
   "execution_count": 11,
   "id": "0db9b5c9",
   "metadata": {},
   "outputs": [
    {
     "data": {
      "text/html": [
       "<div>\n",
       "<style scoped>\n",
       "    .dataframe tbody tr th:only-of-type {\n",
       "        vertical-align: middle;\n",
       "    }\n",
       "\n",
       "    .dataframe tbody tr th {\n",
       "        vertical-align: top;\n",
       "    }\n",
       "\n",
       "    .dataframe thead th {\n",
       "        text-align: right;\n",
       "    }\n",
       "</style>\n",
       "<table border=\"1\" class=\"dataframe\">\n",
       "  <thead>\n",
       "    <tr style=\"text-align: right;\">\n",
       "      <th></th>\n",
       "      <th>col1</th>\n",
       "      <th>col2</th>\n",
       "      <th>col3</th>\n",
       "    </tr>\n",
       "  </thead>\n",
       "  <tbody>\n",
       "    <tr>\n",
       "      <th>0</th>\n",
       "      <td>1</td>\n",
       "      <td>444</td>\n",
       "      <td>abc</td>\n",
       "    </tr>\n",
       "    <tr>\n",
       "      <th>1</th>\n",
       "      <td>2</td>\n",
       "      <td>555</td>\n",
       "      <td>def</td>\n",
       "    </tr>\n",
       "    <tr>\n",
       "      <th>2</th>\n",
       "      <td>3</td>\n",
       "      <td>666</td>\n",
       "      <td>ghi</td>\n",
       "    </tr>\n",
       "    <tr>\n",
       "      <th>3</th>\n",
       "      <td>4</td>\n",
       "      <td>444</td>\n",
       "      <td>xyz</td>\n",
       "    </tr>\n",
       "  </tbody>\n",
       "</table>\n",
       "</div>"
      ],
      "text/plain": [
       "   col1  col2 col3\n",
       "0     1   444  abc\n",
       "1     2   555  def\n",
       "2     3   666  ghi\n",
       "3     4   444  xyz"
      ]
     },
     "execution_count": 11,
     "metadata": {},
     "output_type": "execute_result"
    }
   ],
   "source": [
    "df"
   ]
  },
  {
   "cell_type": "code",
   "execution_count": 12,
   "id": "7170293d",
   "metadata": {},
   "outputs": [],
   "source": [
    "#Selection"
   ]
  },
  {
   "cell_type": "code",
   "execution_count": 13,
   "id": "01000e11",
   "metadata": {},
   "outputs": [],
   "source": [
    "#Here we select from dataframe using criteria from multiple columns\n",
    "#so basically we are combining multiple conditions using \"&\""
   ]
  },
  {
   "cell_type": "code",
   "execution_count": 14,
   "id": "1d57d31e",
   "metadata": {},
   "outputs": [],
   "source": [
    "newdf=df[(df[\"col1\"]>2) & (df[\"col2\"]==444)]"
   ]
  },
  {
   "cell_type": "code",
   "execution_count": 15,
   "id": "01c108b3",
   "metadata": {},
   "outputs": [
    {
     "data": {
      "text/html": [
       "<div>\n",
       "<style scoped>\n",
       "    .dataframe tbody tr th:only-of-type {\n",
       "        vertical-align: middle;\n",
       "    }\n",
       "\n",
       "    .dataframe tbody tr th {\n",
       "        vertical-align: top;\n",
       "    }\n",
       "\n",
       "    .dataframe thead th {\n",
       "        text-align: right;\n",
       "    }\n",
       "</style>\n",
       "<table border=\"1\" class=\"dataframe\">\n",
       "  <thead>\n",
       "    <tr style=\"text-align: right;\">\n",
       "      <th></th>\n",
       "      <th>col1</th>\n",
       "      <th>col2</th>\n",
       "      <th>col3</th>\n",
       "    </tr>\n",
       "  </thead>\n",
       "  <tbody>\n",
       "    <tr>\n",
       "      <th>3</th>\n",
       "      <td>4</td>\n",
       "      <td>444</td>\n",
       "      <td>xyz</td>\n",
       "    </tr>\n",
       "  </tbody>\n",
       "</table>\n",
       "</div>"
      ],
      "text/plain": [
       "   col1  col2 col3\n",
       "3     4   444  xyz"
      ]
     },
     "execution_count": 15,
     "metadata": {},
     "output_type": "execute_result"
    }
   ],
   "source": [
    "newdf"
   ]
  },
  {
   "cell_type": "code",
   "execution_count": 16,
   "id": "daf92e05",
   "metadata": {},
   "outputs": [],
   "source": [
    "#this is similar to conditional selection along with combining \n",
    "#several conditions"
   ]
  },
  {
   "cell_type": "code",
   "execution_count": 17,
   "id": "28086e06",
   "metadata": {},
   "outputs": [],
   "source": [
    "#INFO ON UNIQUE VALUES IN COLUMN\n"
   ]
  },
  {
   "cell_type": "code",
   "execution_count": 18,
   "id": "5978642e",
   "metadata": {},
   "outputs": [],
   "source": [
    "#unique elements of a column"
   ]
  },
  {
   "cell_type": "code",
   "execution_count": 19,
   "id": "21ad9919",
   "metadata": {},
   "outputs": [
    {
     "data": {
      "text/plain": [
       "array([444, 555, 666])"
      ]
     },
     "execution_count": 19,
     "metadata": {},
     "output_type": "execute_result"
    }
   ],
   "source": [
    "df[\"col2\"].unique()"
   ]
  },
  {
   "cell_type": "code",
   "execution_count": 20,
   "id": "2f1bf53b",
   "metadata": {},
   "outputs": [],
   "source": [
    "#count of unique elements of a columns"
   ]
  },
  {
   "cell_type": "code",
   "execution_count": 21,
   "id": "1e8679eb",
   "metadata": {},
   "outputs": [
    {
     "data": {
      "text/plain": [
       "3"
      ]
     },
     "execution_count": 21,
     "metadata": {},
     "output_type": "execute_result"
    }
   ],
   "source": [
    "df[\"col2\"].nunique()"
   ]
  },
  {
   "cell_type": "code",
   "execution_count": 22,
   "id": "f39dd1b0",
   "metadata": {},
   "outputs": [],
   "source": [
    "#how many times the unique values appear in a column"
   ]
  },
  {
   "cell_type": "code",
   "execution_count": 23,
   "id": "612ded81",
   "metadata": {},
   "outputs": [
    {
     "data": {
      "text/plain": [
       "444    2\n",
       "555    1\n",
       "666    1\n",
       "Name: col2, dtype: int64"
      ]
     },
     "execution_count": 23,
     "metadata": {},
     "output_type": "execute_result"
    }
   ],
   "source": [
    "df[\"col2\"].value_counts()"
   ]
  },
  {
   "cell_type": "code",
   "execution_count": null,
   "id": "c4befb4a",
   "metadata": {},
   "outputs": [],
   "source": []
  }
 ],
 "metadata": {
  "kernelspec": {
   "display_name": "Python 3 (ipykernel)",
   "language": "python",
   "name": "python3"
  },
  "language_info": {
   "codemirror_mode": {
    "name": "ipython",
    "version": 3
   },
   "file_extension": ".py",
   "mimetype": "text/x-python",
   "name": "python",
   "nbconvert_exporter": "python",
   "pygments_lexer": "ipython3",
   "version": "3.9.12"
  }
 },
 "nbformat": 4,
 "nbformat_minor": 5
}
