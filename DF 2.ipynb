{
 "cells": [
  {
   "cell_type": "code",
   "execution_count": 1,
   "id": "b4365306",
   "metadata": {},
   "outputs": [],
   "source": [
    "#adding and removing columns to/from a dataframe"
   ]
  },
  {
   "cell_type": "code",
   "execution_count": 2,
   "id": "542c25dc",
   "metadata": {},
   "outputs": [],
   "source": [
    "#creating a dataframe first"
   ]
  },
  {
   "cell_type": "code",
   "execution_count": 5,
   "id": "efefdd41",
   "metadata": {},
   "outputs": [],
   "source": [
    "import pandas as pd\n",
    "import numpy as np\n",
    "from numpy.random import randn\n"
   ]
  },
  {
   "cell_type": "code",
   "execution_count": 7,
   "id": "383d0fd5",
   "metadata": {},
   "outputs": [],
   "source": [
    "df=pd.DataFrame(randn(4,4),index=\"A B C D\".split(), columns=\"W X Y Z\".split())"
   ]
  },
  {
   "cell_type": "code",
   "execution_count": 8,
   "id": "37ef48de",
   "metadata": {},
   "outputs": [
    {
     "data": {
      "text/html": [
       "<div>\n",
       "<style scoped>\n",
       "    .dataframe tbody tr th:only-of-type {\n",
       "        vertical-align: middle;\n",
       "    }\n",
       "\n",
       "    .dataframe tbody tr th {\n",
       "        vertical-align: top;\n",
       "    }\n",
       "\n",
       "    .dataframe thead th {\n",
       "        text-align: right;\n",
       "    }\n",
       "</style>\n",
       "<table border=\"1\" class=\"dataframe\">\n",
       "  <thead>\n",
       "    <tr style=\"text-align: right;\">\n",
       "      <th></th>\n",
       "      <th>W</th>\n",
       "      <th>X</th>\n",
       "      <th>Y</th>\n",
       "      <th>Z</th>\n",
       "    </tr>\n",
       "  </thead>\n",
       "  <tbody>\n",
       "    <tr>\n",
       "      <th>A</th>\n",
       "      <td>0.697711</td>\n",
       "      <td>-0.442057</td>\n",
       "      <td>0.327075</td>\n",
       "      <td>0.602995</td>\n",
       "    </tr>\n",
       "    <tr>\n",
       "      <th>B</th>\n",
       "      <td>0.071511</td>\n",
       "      <td>0.152814</td>\n",
       "      <td>1.279607</td>\n",
       "      <td>-0.887000</td>\n",
       "    </tr>\n",
       "    <tr>\n",
       "      <th>C</th>\n",
       "      <td>-0.348182</td>\n",
       "      <td>-1.674475</td>\n",
       "      <td>-0.342149</td>\n",
       "      <td>-1.160898</td>\n",
       "    </tr>\n",
       "    <tr>\n",
       "      <th>D</th>\n",
       "      <td>1.044690</td>\n",
       "      <td>1.167852</td>\n",
       "      <td>1.141023</td>\n",
       "      <td>1.687540</td>\n",
       "    </tr>\n",
       "  </tbody>\n",
       "</table>\n",
       "</div>"
      ],
      "text/plain": [
       "          W         X         Y         Z\n",
       "A  0.697711 -0.442057  0.327075  0.602995\n",
       "B  0.071511  0.152814  1.279607 -0.887000\n",
       "C -0.348182 -1.674475 -0.342149 -1.160898\n",
       "D  1.044690  1.167852  1.141023  1.687540"
      ]
     },
     "execution_count": 8,
     "metadata": {},
     "output_type": "execute_result"
    }
   ],
   "source": [
    "df"
   ]
  },
  {
   "cell_type": "code",
   "execution_count": 9,
   "id": "ca3db7de",
   "metadata": {},
   "outputs": [],
   "source": [
    "df[\"ZN\"]=[1,2,3,4]"
   ]
  },
  {
   "cell_type": "code",
   "execution_count": 10,
   "id": "0b49527d",
   "metadata": {},
   "outputs": [
    {
     "data": {
      "text/html": [
       "<div>\n",
       "<style scoped>\n",
       "    .dataframe tbody tr th:only-of-type {\n",
       "        vertical-align: middle;\n",
       "    }\n",
       "\n",
       "    .dataframe tbody tr th {\n",
       "        vertical-align: top;\n",
       "    }\n",
       "\n",
       "    .dataframe thead th {\n",
       "        text-align: right;\n",
       "    }\n",
       "</style>\n",
       "<table border=\"1\" class=\"dataframe\">\n",
       "  <thead>\n",
       "    <tr style=\"text-align: right;\">\n",
       "      <th></th>\n",
       "      <th>W</th>\n",
       "      <th>X</th>\n",
       "      <th>Y</th>\n",
       "      <th>Z</th>\n",
       "      <th>ZN</th>\n",
       "    </tr>\n",
       "  </thead>\n",
       "  <tbody>\n",
       "    <tr>\n",
       "      <th>A</th>\n",
       "      <td>0.697711</td>\n",
       "      <td>-0.442057</td>\n",
       "      <td>0.327075</td>\n",
       "      <td>0.602995</td>\n",
       "      <td>1</td>\n",
       "    </tr>\n",
       "    <tr>\n",
       "      <th>B</th>\n",
       "      <td>0.071511</td>\n",
       "      <td>0.152814</td>\n",
       "      <td>1.279607</td>\n",
       "      <td>-0.887000</td>\n",
       "      <td>2</td>\n",
       "    </tr>\n",
       "    <tr>\n",
       "      <th>C</th>\n",
       "      <td>-0.348182</td>\n",
       "      <td>-1.674475</td>\n",
       "      <td>-0.342149</td>\n",
       "      <td>-1.160898</td>\n",
       "      <td>3</td>\n",
       "    </tr>\n",
       "    <tr>\n",
       "      <th>D</th>\n",
       "      <td>1.044690</td>\n",
       "      <td>1.167852</td>\n",
       "      <td>1.141023</td>\n",
       "      <td>1.687540</td>\n",
       "      <td>4</td>\n",
       "    </tr>\n",
       "  </tbody>\n",
       "</table>\n",
       "</div>"
      ],
      "text/plain": [
       "          W         X         Y         Z  ZN\n",
       "A  0.697711 -0.442057  0.327075  0.602995   1\n",
       "B  0.071511  0.152814  1.279607 -0.887000   2\n",
       "C -0.348182 -1.674475 -0.342149 -1.160898   3\n",
       "D  1.044690  1.167852  1.141023  1.687540   4"
      ]
     },
     "execution_count": 10,
     "metadata": {},
     "output_type": "execute_result"
    }
   ],
   "source": [
    "df"
   ]
  },
  {
   "cell_type": "code",
   "execution_count": 11,
   "id": "61364bdd",
   "metadata": {},
   "outputs": [],
   "source": [
    "#we have added a new column successfully"
   ]
  },
  {
   "cell_type": "code",
   "execution_count": 12,
   "id": "bbad2066",
   "metadata": {},
   "outputs": [],
   "source": [
    "#lets remove the column"
   ]
  },
  {
   "cell_type": "code",
   "execution_count": 13,
   "id": "90fd2e69",
   "metadata": {},
   "outputs": [
    {
     "data": {
      "text/html": [
       "<div>\n",
       "<style scoped>\n",
       "    .dataframe tbody tr th:only-of-type {\n",
       "        vertical-align: middle;\n",
       "    }\n",
       "\n",
       "    .dataframe tbody tr th {\n",
       "        vertical-align: top;\n",
       "    }\n",
       "\n",
       "    .dataframe thead th {\n",
       "        text-align: right;\n",
       "    }\n",
       "</style>\n",
       "<table border=\"1\" class=\"dataframe\">\n",
       "  <thead>\n",
       "    <tr style=\"text-align: right;\">\n",
       "      <th></th>\n",
       "      <th>W</th>\n",
       "      <th>X</th>\n",
       "      <th>Y</th>\n",
       "      <th>Z</th>\n",
       "    </tr>\n",
       "  </thead>\n",
       "  <tbody>\n",
       "    <tr>\n",
       "      <th>A</th>\n",
       "      <td>0.697711</td>\n",
       "      <td>-0.442057</td>\n",
       "      <td>0.327075</td>\n",
       "      <td>0.602995</td>\n",
       "    </tr>\n",
       "    <tr>\n",
       "      <th>B</th>\n",
       "      <td>0.071511</td>\n",
       "      <td>0.152814</td>\n",
       "      <td>1.279607</td>\n",
       "      <td>-0.887000</td>\n",
       "    </tr>\n",
       "    <tr>\n",
       "      <th>C</th>\n",
       "      <td>-0.348182</td>\n",
       "      <td>-1.674475</td>\n",
       "      <td>-0.342149</td>\n",
       "      <td>-1.160898</td>\n",
       "    </tr>\n",
       "    <tr>\n",
       "      <th>D</th>\n",
       "      <td>1.044690</td>\n",
       "      <td>1.167852</td>\n",
       "      <td>1.141023</td>\n",
       "      <td>1.687540</td>\n",
       "    </tr>\n",
       "  </tbody>\n",
       "</table>\n",
       "</div>"
      ],
      "text/plain": [
       "          W         X         Y         Z\n",
       "A  0.697711 -0.442057  0.327075  0.602995\n",
       "B  0.071511  0.152814  1.279607 -0.887000\n",
       "C -0.348182 -1.674475 -0.342149 -1.160898\n",
       "D  1.044690  1.167852  1.141023  1.687540"
      ]
     },
     "execution_count": 13,
     "metadata": {},
     "output_type": "execute_result"
    }
   ],
   "source": [
    "df.drop(\"ZN\",axis=1)"
   ]
  },
  {
   "cell_type": "code",
   "execution_count": 14,
   "id": "537feefa",
   "metadata": {},
   "outputs": [],
   "source": [
    "#but is it actually deleted?\n"
   ]
  },
  {
   "cell_type": "code",
   "execution_count": 15,
   "id": "aa738831",
   "metadata": {},
   "outputs": [
    {
     "data": {
      "text/html": [
       "<div>\n",
       "<style scoped>\n",
       "    .dataframe tbody tr th:only-of-type {\n",
       "        vertical-align: middle;\n",
       "    }\n",
       "\n",
       "    .dataframe tbody tr th {\n",
       "        vertical-align: top;\n",
       "    }\n",
       "\n",
       "    .dataframe thead th {\n",
       "        text-align: right;\n",
       "    }\n",
       "</style>\n",
       "<table border=\"1\" class=\"dataframe\">\n",
       "  <thead>\n",
       "    <tr style=\"text-align: right;\">\n",
       "      <th></th>\n",
       "      <th>W</th>\n",
       "      <th>X</th>\n",
       "      <th>Y</th>\n",
       "      <th>Z</th>\n",
       "      <th>ZN</th>\n",
       "    </tr>\n",
       "  </thead>\n",
       "  <tbody>\n",
       "    <tr>\n",
       "      <th>A</th>\n",
       "      <td>0.697711</td>\n",
       "      <td>-0.442057</td>\n",
       "      <td>0.327075</td>\n",
       "      <td>0.602995</td>\n",
       "      <td>1</td>\n",
       "    </tr>\n",
       "    <tr>\n",
       "      <th>B</th>\n",
       "      <td>0.071511</td>\n",
       "      <td>0.152814</td>\n",
       "      <td>1.279607</td>\n",
       "      <td>-0.887000</td>\n",
       "      <td>2</td>\n",
       "    </tr>\n",
       "    <tr>\n",
       "      <th>C</th>\n",
       "      <td>-0.348182</td>\n",
       "      <td>-1.674475</td>\n",
       "      <td>-0.342149</td>\n",
       "      <td>-1.160898</td>\n",
       "      <td>3</td>\n",
       "    </tr>\n",
       "    <tr>\n",
       "      <th>D</th>\n",
       "      <td>1.044690</td>\n",
       "      <td>1.167852</td>\n",
       "      <td>1.141023</td>\n",
       "      <td>1.687540</td>\n",
       "      <td>4</td>\n",
       "    </tr>\n",
       "  </tbody>\n",
       "</table>\n",
       "</div>"
      ],
      "text/plain": [
       "          W         X         Y         Z  ZN\n",
       "A  0.697711 -0.442057  0.327075  0.602995   1\n",
       "B  0.071511  0.152814  1.279607 -0.887000   2\n",
       "C -0.348182 -1.674475 -0.342149 -1.160898   3\n",
       "D  1.044690  1.167852  1.141023  1.687540   4"
      ]
     },
     "execution_count": 15,
     "metadata": {},
     "output_type": "execute_result"
    }
   ],
   "source": [
    "df"
   ]
  },
  {
   "cell_type": "code",
   "execution_count": 16,
   "id": "634c2e62",
   "metadata": {},
   "outputs": [],
   "source": [
    "#its still there"
   ]
  },
  {
   "cell_type": "code",
   "execution_count": 18,
   "id": "1c499e47",
   "metadata": {},
   "outputs": [],
   "source": [
    "df.drop(\"ZN\", axis=1,inplace=True)"
   ]
  },
  {
   "cell_type": "code",
   "execution_count": 19,
   "id": "f47a7e4a",
   "metadata": {},
   "outputs": [
    {
     "data": {
      "text/html": [
       "<div>\n",
       "<style scoped>\n",
       "    .dataframe tbody tr th:only-of-type {\n",
       "        vertical-align: middle;\n",
       "    }\n",
       "\n",
       "    .dataframe tbody tr th {\n",
       "        vertical-align: top;\n",
       "    }\n",
       "\n",
       "    .dataframe thead th {\n",
       "        text-align: right;\n",
       "    }\n",
       "</style>\n",
       "<table border=\"1\" class=\"dataframe\">\n",
       "  <thead>\n",
       "    <tr style=\"text-align: right;\">\n",
       "      <th></th>\n",
       "      <th>W</th>\n",
       "      <th>X</th>\n",
       "      <th>Y</th>\n",
       "      <th>Z</th>\n",
       "    </tr>\n",
       "  </thead>\n",
       "  <tbody>\n",
       "    <tr>\n",
       "      <th>A</th>\n",
       "      <td>0.697711</td>\n",
       "      <td>-0.442057</td>\n",
       "      <td>0.327075</td>\n",
       "      <td>0.602995</td>\n",
       "    </tr>\n",
       "    <tr>\n",
       "      <th>B</th>\n",
       "      <td>0.071511</td>\n",
       "      <td>0.152814</td>\n",
       "      <td>1.279607</td>\n",
       "      <td>-0.887000</td>\n",
       "    </tr>\n",
       "    <tr>\n",
       "      <th>C</th>\n",
       "      <td>-0.348182</td>\n",
       "      <td>-1.674475</td>\n",
       "      <td>-0.342149</td>\n",
       "      <td>-1.160898</td>\n",
       "    </tr>\n",
       "    <tr>\n",
       "      <th>D</th>\n",
       "      <td>1.044690</td>\n",
       "      <td>1.167852</td>\n",
       "      <td>1.141023</td>\n",
       "      <td>1.687540</td>\n",
       "    </tr>\n",
       "  </tbody>\n",
       "</table>\n",
       "</div>"
      ],
      "text/plain": [
       "          W         X         Y         Z\n",
       "A  0.697711 -0.442057  0.327075  0.602995\n",
       "B  0.071511  0.152814  1.279607 -0.887000\n",
       "C -0.348182 -1.674475 -0.342149 -1.160898\n",
       "D  1.044690  1.167852  1.141023  1.687540"
      ]
     },
     "execution_count": 19,
     "metadata": {},
     "output_type": "execute_result"
    }
   ],
   "source": [
    "df"
   ]
  },
  {
   "cell_type": "code",
   "execution_count": null,
   "id": "c78d15de",
   "metadata": {},
   "outputs": [],
   "source": [
    "#successfully removed"
   ]
  }
 ],
 "metadata": {
  "kernelspec": {
   "display_name": "Python 3 (ipykernel)",
   "language": "python",
   "name": "python3"
  },
  "language_info": {
   "codemirror_mode": {
    "name": "ipython",
    "version": 3
   },
   "file_extension": ".py",
   "mimetype": "text/x-python",
   "name": "python",
   "nbconvert_exporter": "python",
   "pygments_lexer": "ipython3",
   "version": "3.9.12"
  }
 },
 "nbformat": 4,
 "nbformat_minor": 5
}
