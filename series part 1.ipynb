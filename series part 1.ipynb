{
 "cells": [
  {
   "cell_type": "code",
   "execution_count": 1,
   "id": "3a5e8776",
   "metadata": {},
   "outputs": [],
   "source": [
    "#what is a series?\n",
    "#we know that pandas is primarily used for analysis of data\n",
    "#it supports 2 main data-types: series data type and dataframe data type"
   ]
  },
  {
   "cell_type": "code",
   "execution_count": 2,
   "id": "0ea8a6f1",
   "metadata": {},
   "outputs": [],
   "source": [
    "#what is a series?\n",
    "#our original question\n"
   ]
  },
  {
   "cell_type": "code",
   "execution_count": 3,
   "id": "9d41cbdd",
   "metadata": {},
   "outputs": [],
   "source": [
    "#pandas series is like a column in a table\n",
    "#it is a one-dimensional array holding data of any type"
   ]
  },
  {
   "cell_type": "code",
   "execution_count": 4,
   "id": "3b0cbab5",
   "metadata": {},
   "outputs": [],
   "source": [
    "#we can convert a list, a numpy array or a dictionary into a series"
   ]
  },
  {
   "cell_type": "code",
   "execution_count": 5,
   "id": "1e8ad9b2",
   "metadata": {},
   "outputs": [],
   "source": [
    "#list to numpy series"
   ]
  },
  {
   "cell_type": "code",
   "execution_count": 6,
   "id": "b127f7a1",
   "metadata": {},
   "outputs": [],
   "source": [
    "import pandas as pd\n",
    "import numpy as np\n"
   ]
  },
  {
   "cell_type": "code",
   "execution_count": 7,
   "id": "8ba0f38a",
   "metadata": {},
   "outputs": [],
   "source": [
    "my_list=[10,20,30]"
   ]
  },
  {
   "cell_type": "code",
   "execution_count": 8,
   "id": "cbcb26cf",
   "metadata": {},
   "outputs": [],
   "source": [
    "a=pd.Series(data=my_list)"
   ]
  },
  {
   "cell_type": "code",
   "execution_count": 9,
   "id": "f638c427",
   "metadata": {},
   "outputs": [
    {
     "data": {
      "text/plain": [
       "0    10\n",
       "1    20\n",
       "2    30\n",
       "dtype: int64"
      ]
     },
     "execution_count": 9,
     "metadata": {},
     "output_type": "execute_result"
    }
   ],
   "source": [
    "a"
   ]
  },
  {
   "cell_type": "code",
   "execution_count": 10,
   "id": "19259cad",
   "metadata": {},
   "outputs": [],
   "source": [
    "w=np.array([10,20,30])\n",
    "a=pd.Series(data=w)"
   ]
  },
  {
   "cell_type": "code",
   "execution_count": 11,
   "id": "e5fbaff7",
   "metadata": {},
   "outputs": [
    {
     "data": {
      "text/plain": [
       "0    10\n",
       "1    20\n",
       "2    30\n",
       "dtype: int64"
      ]
     },
     "execution_count": 11,
     "metadata": {},
     "output_type": "execute_result"
    }
   ],
   "source": [
    "a"
   ]
  },
  {
   "cell_type": "code",
   "execution_count": 12,
   "id": "618457d8",
   "metadata": {},
   "outputs": [],
   "source": [
    "#we covered the topics of creating a series from a list and a numpy array"
   ]
  },
  {
   "cell_type": "code",
   "execution_count": 13,
   "id": "482cde84",
   "metadata": {},
   "outputs": [],
   "source": [
    "#now lets try to understand the difference between a series and an array"
   ]
  },
  {
   "cell_type": "code",
   "execution_count": 14,
   "id": "205ddbce",
   "metadata": {},
   "outputs": [],
   "source": [
    "#series can have axis labels, meaning it can be indexed by a label, \n",
    "#instead of numeric values\n",
    "#by default it has a numeric indexing"
   ]
  },
  {
   "cell_type": "code",
   "execution_count": null,
   "id": "727c4921",
   "metadata": {},
   "outputs": [],
   "source": [
    "label"
   ]
  }
 ],
 "metadata": {
  "kernelspec": {
   "display_name": "Python 3 (ipykernel)",
   "language": "python",
   "name": "python3"
  },
  "language_info": {
   "codemirror_mode": {
    "name": "ipython",
    "version": 3
   },
   "file_extension": ".py",
   "mimetype": "text/x-python",
   "name": "python",
   "nbconvert_exporter": "python",
   "pygments_lexer": "ipython3",
   "version": "3.9.12"
  }
 },
 "nbformat": 4,
 "nbformat_minor": 5
}
