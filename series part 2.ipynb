{
 "cells": [
  {
   "cell_type": "code",
   "execution_count": 1,
   "id": "cd550e12",
   "metadata": {},
   "outputs": [],
   "source": [
    "# continuation of discussion on labels and indexing"
   ]
  },
  {
   "cell_type": "code",
   "execution_count": 2,
   "id": "13575411",
   "metadata": {},
   "outputs": [],
   "source": [
    "#so now our task is to take the data and label values as separate lists\n",
    "#and create a pandas series"
   ]
  },
  {
   "cell_type": "code",
   "execution_count": 3,
   "id": "e88fc223",
   "metadata": {},
   "outputs": [],
   "source": [
    "import pandas as pd\n",
    "import numpy as np"
   ]
  },
  {
   "cell_type": "code",
   "execution_count": 4,
   "id": "e2ee44c4",
   "metadata": {},
   "outputs": [],
   "source": [
    "labels=[\"ab\",\"bc\",\"cd\"]\n",
    "dataz=[1,2,3]"
   ]
  },
  {
   "cell_type": "code",
   "execution_count": 5,
   "id": "c2efe90a",
   "metadata": {},
   "outputs": [],
   "source": [
    "q=pd.Series(data=dataz,index=labels)"
   ]
  },
  {
   "cell_type": "code",
   "execution_count": 6,
   "id": "d8d3800f",
   "metadata": {},
   "outputs": [
    {
     "data": {
      "text/plain": [
       "ab    1\n",
       "bc    2\n",
       "cd    3\n",
       "dtype: int64"
      ]
     },
     "execution_count": 6,
     "metadata": {},
     "output_type": "execute_result"
    }
   ],
   "source": [
    "q"
   ]
  },
  {
   "cell_type": "code",
   "execution_count": 7,
   "id": "aa168397",
   "metadata": {},
   "outputs": [],
   "source": [
    "#what if we dont pass the index values"
   ]
  },
  {
   "cell_type": "code",
   "execution_count": 8,
   "id": "f97e3fdd",
   "metadata": {},
   "outputs": [],
   "source": [
    "Q=pd.Series(data=dataz)"
   ]
  },
  {
   "cell_type": "code",
   "execution_count": 9,
   "id": "03592b10",
   "metadata": {},
   "outputs": [
    {
     "data": {
      "text/plain": [
       "0    1\n",
       "1    2\n",
       "2    3\n",
       "dtype: int64"
      ]
     },
     "execution_count": 9,
     "metadata": {},
     "output_type": "execute_result"
    }
   ],
   "source": [
    "Q"
   ]
  },
  {
   "cell_type": "code",
   "execution_count": null,
   "id": "eb6304db",
   "metadata": {},
   "outputs": [],
   "source": [
    "#now your assignment is to take a list and a"
   ]
  }
 ],
 "metadata": {
  "kernelspec": {
   "display_name": "Python 3 (ipykernel)",
   "language": "python",
   "name": "python3"
  },
  "language_info": {
   "codemirror_mode": {
    "name": "ipython",
    "version": 3
   },
   "file_extension": ".py",
   "mimetype": "text/x-python",
   "name": "python",
   "nbconvert_exporter": "python",
   "pygments_lexer": "ipython3",
   "version": "3.9.12"
  }
 },
 "nbformat": 4,
 "nbformat_minor": 5
}
