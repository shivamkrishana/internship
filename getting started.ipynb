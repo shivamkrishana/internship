{
 "cells": [
  {
   "cell_type": "code",
   "execution_count": 1,
   "id": "a99a29a8",
   "metadata": {},
   "outputs": [],
   "source": [
    "#INSTALLATION OF PANDAS\n"
   ]
  },
  {
   "cell_type": "code",
   "execution_count": 2,
   "id": "21319f2f",
   "metadata": {},
   "outputs": [],
   "source": [
    "#if you have python and pip package already installed, then installation \n",
    "#of pandas is very easy. Install it using the command"
   ]
  },
  {
   "cell_type": "code",
   "execution_count": 3,
   "id": "7b3adbe0",
   "metadata": {},
   "outputs": [
    {
     "name": "stdout",
     "output_type": "stream",
     "text": [
      "Requirement already satisfied: pandas in /Users/shivamkrishana/opt/anaconda3/lib/python3.9/site-packages (1.4.2)\n",
      "Requirement already satisfied: python-dateutil>=2.8.1 in /Users/shivamkrishana/opt/anaconda3/lib/python3.9/site-packages (from pandas) (2.8.2)\n",
      "Requirement already satisfied: pytz>=2020.1 in /Users/shivamkrishana/opt/anaconda3/lib/python3.9/site-packages (from pandas) (2022.1)\n",
      "Requirement already satisfied: numpy>=1.18.5 in /Users/shivamkrishana/opt/anaconda3/lib/python3.9/site-packages (from pandas) (1.21.5)\n",
      "Requirement already satisfied: six>=1.5 in /Users/shivamkrishana/opt/anaconda3/lib/python3.9/site-packages (from python-dateutil>=2.8.1->pandas) (1.16.0)\n",
      "Note: you may need to restart the kernel to use updated packages.\n"
     ]
    }
   ],
   "source": [
    "pip install pandas"
   ]
  },
  {
   "cell_type": "code",
   "execution_count": 4,
   "id": "209ddd3d",
   "metadata": {},
   "outputs": [],
   "source": [
    "#if this fails, you can use a distribution like anaconda, spyder etc\n",
    "#they come preinstalled with pandas"
   ]
  },
  {
   "cell_type": "code",
   "execution_count": 5,
   "id": "572a0878",
   "metadata": {},
   "outputs": [],
   "source": [
    "#IMPORT PANDAS MODULE"
   ]
  },
  {
   "cell_type": "code",
   "execution_count": 6,
   "id": "12b71dd2",
   "metadata": {},
   "outputs": [],
   "source": [
    "import pandas"
   ]
  },
  {
   "cell_type": "code",
   "execution_count": 7,
   "id": "c15eb200",
   "metadata": {},
   "outputs": [],
   "source": [
    "#IMPORTING AS AN ALIAS"
   ]
  },
  {
   "cell_type": "code",
   "execution_count": 8,
   "id": "b14609d0",
   "metadata": {},
   "outputs": [],
   "source": [
    "import pandas as pd"
   ]
  },
  {
   "cell_type": "code",
   "execution_count": 9,
   "id": "4b84ef4b",
   "metadata": {},
   "outputs": [],
   "source": [
    "#CHECKING PANDAS VERSION"
   ]
  },
  {
   "cell_type": "code",
   "execution_count": 10,
   "id": "25adbbd8",
   "metadata": {},
   "outputs": [
    {
     "data": {
      "text/plain": [
       "'1.4.2'"
      ]
     },
     "execution_count": 10,
     "metadata": {},
     "output_type": "execute_result"
    }
   ],
   "source": [
    "pd.__version__"
   ]
  },
  {
   "cell_type": "code",
   "execution_count": 11,
   "id": "085ce7b8",
   "metadata": {},
   "outputs": [
    {
     "name": "stdout",
     "output_type": "stream",
     "text": [
      "1.4.2\n"
     ]
    }
   ],
   "source": [
    "print(pd.__version__)"
   ]
  },
  {
   "cell_type": "code",
   "execution_count": 12,
   "id": "d5e1079c",
   "metadata": {},
   "outputs": [],
   "source": [
    "#CREATING A DATAFRAME -----> DISCUSS THEM LATER IN DETAIL"
   ]
  },
  {
   "cell_type": "code",
   "execution_count": 14,
   "id": "60053006",
   "metadata": {},
   "outputs": [
    {
     "name": "stdout",
     "output_type": "stream",
     "text": [
      "{'cars': ['bmw', 'skoda'], 'values': ['1', '2']}\n",
      "    cars values\n",
      "0    bmw      1\n",
      "1  skoda      2\n"
     ]
    }
   ],
   "source": [
    "mydataset={\n",
    "    \"cars\":[\"bmw\",\"skoda\"],\n",
    "    \"values\":[\"1\",\"2\"]\n",
    "}\n",
    "print(mydataset)\n",
    "myvar=pd.DataFrame(mydataset)\n",
    "print(myvar)"
   ]
  },
  {
   "cell_type": "code",
   "execution_count": null,
   "id": "3af74353",
   "metadata": {},
   "outputs": [],
   "source": []
  }
 ],
 "metadata": {
  "kernelspec": {
   "display_name": "Python 3 (ipykernel)",
   "language": "python",
   "name": "python3"
  },
  "language_info": {
   "codemirror_mode": {
    "name": "ipython",
    "version": 3
   },
   "file_extension": ".py",
   "mimetype": "text/x-python",
   "name": "python",
   "nbconvert_exporter": "python",
   "pygments_lexer": "ipython3",
   "version": "3.9.12"
  }
 },
 "nbformat": 4,
 "nbformat_minor": 5
}
