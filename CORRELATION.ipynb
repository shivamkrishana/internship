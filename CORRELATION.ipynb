{
 "cells": [
  {
   "cell_type": "code",
   "execution_count": 1,
   "id": "859dcd0e",
   "metadata": {},
   "outputs": [],
   "source": [
    "#in statistics, correlation or dependence is any statistical\n",
    "#relationship, whether causal or not, between 2 random variables"
   ]
  },
  {
   "cell_type": "code",
   "execution_count": 2,
   "id": "01e5d183",
   "metadata": {},
   "outputs": [],
   "source": [
    "#correlation is used to find relationship among the features"
   ]
  },
  {
   "cell_type": "code",
   "execution_count": 3,
   "id": "0142ce14",
   "metadata": {},
   "outputs": [],
   "source": [
    "#a great aspect of pandas module is the corr() method "
   ]
  },
  {
   "cell_type": "code",
   "execution_count": 4,
   "id": "ddfccf51",
   "metadata": {},
   "outputs": [],
   "source": [
    "#corr() method calculates the relationship between each column of the \n",
    "#dataset"
   ]
  },
  {
   "cell_type": "code",
   "execution_count": 5,
   "id": "f045b6b1",
   "metadata": {},
   "outputs": [],
   "source": [
    "import pandas as pd"
   ]
  },
  {
   "cell_type": "code",
   "execution_count": 6,
   "id": "686e8587",
   "metadata": {},
   "outputs": [],
   "source": [
    "df=pd.read_csv(\"Iris.csv\")"
   ]
  },
  {
   "cell_type": "code",
   "execution_count": 7,
   "id": "3bd63945",
   "metadata": {},
   "outputs": [
    {
     "data": {
      "text/html": [
       "<div>\n",
       "<style scoped>\n",
       "    .dataframe tbody tr th:only-of-type {\n",
       "        vertical-align: middle;\n",
       "    }\n",
       "\n",
       "    .dataframe tbody tr th {\n",
       "        vertical-align: top;\n",
       "    }\n",
       "\n",
       "    .dataframe thead th {\n",
       "        text-align: right;\n",
       "    }\n",
       "</style>\n",
       "<table border=\"1\" class=\"dataframe\">\n",
       "  <thead>\n",
       "    <tr style=\"text-align: right;\">\n",
       "      <th></th>\n",
       "      <th>Id</th>\n",
       "      <th>SepalLengthCm</th>\n",
       "      <th>SepalWidthCm</th>\n",
       "      <th>PetalLengthCm</th>\n",
       "      <th>PetalWidthCm</th>\n",
       "    </tr>\n",
       "  </thead>\n",
       "  <tbody>\n",
       "    <tr>\n",
       "      <th>Id</th>\n",
       "      <td>1.000000</td>\n",
       "      <td>0.716676</td>\n",
       "      <td>-0.397729</td>\n",
       "      <td>0.882747</td>\n",
       "      <td>0.899759</td>\n",
       "    </tr>\n",
       "    <tr>\n",
       "      <th>SepalLengthCm</th>\n",
       "      <td>0.716676</td>\n",
       "      <td>1.000000</td>\n",
       "      <td>-0.109369</td>\n",
       "      <td>0.871754</td>\n",
       "      <td>0.817954</td>\n",
       "    </tr>\n",
       "    <tr>\n",
       "      <th>SepalWidthCm</th>\n",
       "      <td>-0.397729</td>\n",
       "      <td>-0.109369</td>\n",
       "      <td>1.000000</td>\n",
       "      <td>-0.420516</td>\n",
       "      <td>-0.356544</td>\n",
       "    </tr>\n",
       "    <tr>\n",
       "      <th>PetalLengthCm</th>\n",
       "      <td>0.882747</td>\n",
       "      <td>0.871754</td>\n",
       "      <td>-0.420516</td>\n",
       "      <td>1.000000</td>\n",
       "      <td>0.962757</td>\n",
       "    </tr>\n",
       "    <tr>\n",
       "      <th>PetalWidthCm</th>\n",
       "      <td>0.899759</td>\n",
       "      <td>0.817954</td>\n",
       "      <td>-0.356544</td>\n",
       "      <td>0.962757</td>\n",
       "      <td>1.000000</td>\n",
       "    </tr>\n",
       "  </tbody>\n",
       "</table>\n",
       "</div>"
      ],
      "text/plain": [
       "                     Id  SepalLengthCm  SepalWidthCm  PetalLengthCm  \\\n",
       "Id             1.000000       0.716676     -0.397729       0.882747   \n",
       "SepalLengthCm  0.716676       1.000000     -0.109369       0.871754   \n",
       "SepalWidthCm  -0.397729      -0.109369      1.000000      -0.420516   \n",
       "PetalLengthCm  0.882747       0.871754     -0.420516       1.000000   \n",
       "PetalWidthCm   0.899759       0.817954     -0.356544       0.962757   \n",
       "\n",
       "               PetalWidthCm  \n",
       "Id                 0.899759  \n",
       "SepalLengthCm      0.817954  \n",
       "SepalWidthCm      -0.356544  \n",
       "PetalLengthCm      0.962757  \n",
       "PetalWidthCm       1.000000  "
      ]
     },
     "execution_count": 7,
     "metadata": {},
     "output_type": "execute_result"
    }
   ],
   "source": [
    "df.corr()"
   ]
  },
  {
   "cell_type": "code",
   "execution_count": 8,
   "id": "cd770c64",
   "metadata": {},
   "outputs": [],
   "source": [
    "#the corr() method ignores the columns which are not numeric"
   ]
  },
  {
   "cell_type": "code",
   "execution_count": 9,
   "id": "170666fc",
   "metadata": {},
   "outputs": [],
   "source": [
    "#the result of corr() method is a tables consisting of numeric values"
   ]
  },
  {
   "cell_type": "code",
   "execution_count": 10,
   "id": "b693d421",
   "metadata": {},
   "outputs": [],
   "source": [
    "#they vary between -1 and +1"
   ]
  },
  {
   "cell_type": "code",
   "execution_count": 11,
   "id": "97f59069",
   "metadata": {},
   "outputs": [],
   "source": [
    "#- or negative values denote negative correlation"
   ]
  },
  {
   "cell_type": "code",
   "execution_count": 12,
   "id": "890ba7be",
   "metadata": {},
   "outputs": [],
   "source": [
    "#+ or positive values denote a positive correlation"
   ]
  },
  {
   "cell_type": "code",
   "execution_count": 13,
   "id": "e0180cf7",
   "metadata": {},
   "outputs": [],
   "source": [
    "#what is a good correlation?\n",
    "#at least 0.6 0r -0.6 correlation value denotes a positive correlation"
   ]
  },
  {
   "cell_type": "code",
   "execution_count": 14,
   "id": "4e89d869",
   "metadata": {},
   "outputs": [],
   "source": [
    "#perfect correlation\n",
    "#correlation value of 1 denotes a perfect correlation"
   ]
  },
  {
   "cell_type": "code",
   "execution_count": 15,
   "id": "fca5955c",
   "metadata": {},
   "outputs": [],
   "source": [
    "#lets see the correlation in form of a heatmap"
   ]
  },
  {
   "cell_type": "code",
   "execution_count": 16,
   "id": "2afed451",
   "metadata": {},
   "outputs": [],
   "source": [
    "import seaborn as sns"
   ]
  },
  {
   "cell_type": "code",
   "execution_count": 17,
   "id": "f53c5fd8",
   "metadata": {},
   "outputs": [],
   "source": [
    "import matplotlib.pyplot as plt"
   ]
  },
  {
   "cell_type": "code",
   "execution_count": 19,
   "id": "5b24863a",
   "metadata": {},
   "outputs": [
    {
     "data": {
      "text/plain": [
       "<AxesSubplot:>"
      ]
     },
     "execution_count": 19,
     "metadata": {},
     "output_type": "execute_result"
    },
    {
     "data": {
      "image/png": "[encoded data removed]",
      "text/plain": [
       "<Figure size 432x288 with 2 Axes>"
      ]
     },
     "metadata": {
      "needs_background": "light"
     },
     "output_type": "display_data"
    }
   ],
   "source": [
    "sns.heatmap(df.corr(),cmap=\"coolwarm\",annot=True)"
   ]
  },
  {
   "cell_type": "code",
   "execution_count": null,
   "id": "d5834b31",
   "metadata": {},
   "outputs": [],
   "source": [
    "#more about plotting in future playlists"
   ]
  }
 ],
 "metadata": {
  "kernelspec": {
   "display_name": "Python 3 (ipykernel)",
   "language": "python",
   "name": "python3"
  },
  "language_info": {
   "codemirror_mode": {
    "name": "ipython",
    "version": 3
   },
   "file_extension": ".py",
   "mimetype": "text/x-python",
   "name": "python",
   "nbconvert_exporter": "python",
   "pygments_lexer": "ipython3",
   "version": "3.9.12"
  }
 },
 "nbformat": 4,
 "nbformat_minor": 5
}
